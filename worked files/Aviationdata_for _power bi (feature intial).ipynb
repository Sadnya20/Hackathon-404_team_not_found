{
 "cells": [
  {
   "cell_type": "code",
   "execution_count": 1,
   "id": "68c074fd-f5ab-46bf-a626-ba6fbb11bb71",
   "metadata": {},
   "outputs": [],
   "source": [
    "import pandas as pd\n",
    "import numpy as np\n",
    "import matplotlib.pyplot as plt\n",
    "import seaborn as sns\n"
   ]
  },
  {
   "cell_type": "code",
   "execution_count": 3,
   "id": "ffcf3e16-7147-4a55-8ae3-ad958b4b939d",
   "metadata": {},
   "outputs": [
    {
     "name": "stdout",
     "output_type": "stream",
     "text": [
      "Requirement already satisfied: openpyxl in c:\\users\\saga\\appdata\\local\\programs\\python\\python313\\lib\\site-packages (3.1.5)\n",
      "Requirement already satisfied: et-xmlfile in c:\\users\\saga\\appdata\\local\\programs\\python\\python313\\lib\\site-packages (from openpyxl) (2.0.0)\n",
      "Note: you may need to restart the kernel to use updated packages.\n"
     ]
    },
    {
     "name": "stderr",
     "output_type": "stream",
     "text": [
      "\n",
      "[notice] A new release of pip is available: 24.3.1 -> 25.0.1\n",
      "[notice] To update, run: python.exe -m pip install --upgrade pip\n"
     ]
    }
   ],
   "source": [
    "\n",
    "pip install openpyxl\n"
   ]
  },
  {
   "cell_type": "code",
   "execution_count": 5,
   "id": "5e2df233-cf14-44e1-ab1e-fc018ff7a4e0",
   "metadata": {},
   "outputs": [
    {
     "name": "stdout",
     "output_type": "stream",
     "text": [
      "C:\\Users\\SAGA\\Desktop\\PythonDA\n"
     ]
    }
   ],
   "source": [
    "import os\n",
    "print(os.getcwd())  # This will print the current working directory\n"
   ]
  },
  {
   "cell_type": "code",
   "execution_count": 8,
   "id": "8c21ddc1-c796-422d-9916-004fcb1f1ee9",
   "metadata": {},
   "outputs": [
    {
     "name": "stdout",
     "output_type": "stream",
     "text": [
      "File exists!\n"
     ]
    }
   ],
   "source": [
    "import os\n",
    "\n",
    "file_path = r\"404_team/Aviation_KPIs_Dataset.xlsx\"\n",
    "\n",
    "if os.path.exists(file_path):\n",
    "    print(\"File exists!\")\n",
    "else:\n",
    "    print(\"File NOT found! Check the path.\")\n"
   ]
  },
  {
   "cell_type": "code",
   "execution_count": 11,
   "id": "a660eb29-ce0f-48f9-b0fd-1b35d2108747",
   "metadata": {},
   "outputs": [
    {
     "name": "stdout",
     "output_type": "stream",
     "text": [
      "  Flight Number Scheduled Departure Time   Actual Departure Time  \\\n",
      "0         FL885  2024-05-20 11:51:21.328 2024-07-10 02:38:53.731   \n",
      "1         FL930  2024-01-23 06:56:22.686 2024-07-07 02:53:44.150   \n",
      "2         FL478  2024-05-30 09:18:38.578 2024-12-05 01:00:54.473   \n",
      "3         FL637  2024-08-15 05:21:46.814 2024-09-21 13:23:41.615   \n",
      "4         FL318  2024-07-25 15:29:58.467 2024-03-21 15:05:54.375   \n",
      "\n",
      "   Delay (Minutes)  Aircraft Utilization (Hours/Day)  \\\n",
      "0               50                             12.36   \n",
      "1               27                             14.53   \n",
      "2              108                             10.73   \n",
      "3               64                             15.10   \n",
      "4               30                             13.46   \n",
      "\n",
      "   Turnaround Time (Minutes)  Load Factor (%)  Fleet Availability (%)  \\\n",
      "0                        115            79.18                   96.24   \n",
      "1                         83            98.59                   80.49   \n",
      "2                         87            67.44                   97.90   \n",
      "3                         99            69.01                   80.17   \n",
      "4                        114            50.36                   82.23   \n",
      "\n",
      "   Maintenance Downtime (Hours)  Fuel Efficiency (ASK)  Revenue (USD)  \\\n",
      "0                          9.21                   4.15       10953.75   \n",
      "1                          1.55                   3.93       31597.25   \n",
      "2                          2.06                   4.26       13700.27   \n",
      "3                          6.85                   4.13       39913.01   \n",
      "4                          7.30                   4.97       11531.48   \n",
      "\n",
      "   Operating Cost (USD)  Net Profit Margin (%)  Ancillary Revenue (USD)  \\\n",
      "0              27847.59                  17.90                  1058.68   \n",
      "1               1564.41                   7.70                  2941.32   \n",
      "2              30494.88                   5.84                  1920.45   \n",
      "3              13444.09                  24.09                  3167.79   \n",
      "4              34668.98                   7.18                   619.80   \n",
      "\n",
      "   Debt-to-Equity Ratio  Revenue per ASK  Cost per ASK  Profit (USD)  \n",
      "0                  2.46          2639.46       6710.26     -16893.84  \n",
      "1                  2.89          8040.01        398.07      30032.84  \n",
      "2                  1.34          3216.03       7158.42     -16794.61  \n",
      "3                  0.60          9664.17       3255.23      26468.92  \n",
      "4                  0.84          2320.22       6975.65     -23137.50  \n"
     ]
    }
   ],
   "source": [
    "import pandas as pd\n",
    "df = pd.read_excel(\"404_team/Aviation_KPIs_Dataset.xlsx\", engine=\"openpyxl\")  # Now use relative path\n",
    "print(df.head())\n"
   ]
  },
  {
   "cell_type": "code",
   "execution_count": null,
   "id": "677e6f57-972e-408b-94cc-e8e49b42a3dc",
   "metadata": {},
   "outputs": [],
   "source": []
  },
  {
   "cell_type": "code",
   "execution_count": 12,
   "id": "9d69a383-d852-453b-8c47-5d9413a83f73",
   "metadata": {},
   "outputs": [],
   "source": [
    "all_cols=df.columns\n",
    "\n"
   ]
  },
  {
   "cell_type": "code",
   "execution_count": 13,
   "id": "d37c2fad-ddab-4b4d-93a8-9d60ea6777c1",
   "metadata": {},
   "outputs": [
    {
     "data": {
      "text/plain": [
       "Index(['Flight Number', 'Scheduled Departure Time', 'Actual Departure Time',\n",
       "       'Delay (Minutes)', 'Aircraft Utilization (Hours/Day)',\n",
       "       'Turnaround Time (Minutes)', 'Load Factor (%)',\n",
       "       'Fleet Availability (%)', 'Maintenance Downtime (Hours)',\n",
       "       'Fuel Efficiency (ASK)', 'Revenue (USD)', 'Operating Cost (USD)',\n",
       "       'Net Profit Margin (%)', 'Ancillary Revenue (USD)',\n",
       "       'Debt-to-Equity Ratio', 'Revenue per ASK', 'Cost per ASK',\n",
       "       'Profit (USD)'],\n",
       "      dtype='object')"
      ]
     },
     "execution_count": 13,
     "metadata": {},
     "output_type": "execute_result"
    }
   ],
   "source": [
    "all_cols\n",
    "\n"
   ]
  },
  {
   "cell_type": "code",
   "execution_count": 14,
   "id": "f2da99a7-3838-499b-a1ea-6124a8a53662",
   "metadata": {},
   "outputs": [
    {
     "data": {
      "text/plain": [
       "Flight Number                       0\n",
       "Scheduled Departure Time            0\n",
       "Actual Departure Time               0\n",
       "Delay (Minutes)                     0\n",
       "Aircraft Utilization (Hours/Day)    0\n",
       "Turnaround Time (Minutes)           0\n",
       "Load Factor (%)                     0\n",
       "Fleet Availability (%)              0\n",
       "Maintenance Downtime (Hours)        0\n",
       "Fuel Efficiency (ASK)               0\n",
       "Revenue (USD)                       0\n",
       "Operating Cost (USD)                0\n",
       "Net Profit Margin (%)               0\n",
       "Ancillary Revenue (USD)             0\n",
       "Debt-to-Equity Ratio                0\n",
       "Revenue per ASK                     0\n",
       "Cost per ASK                        0\n",
       "Profit (USD)                        0\n",
       "dtype: int64"
      ]
     },
     "execution_count": 14,
     "metadata": {},
     "output_type": "execute_result"
    }
   ],
   "source": [
    "df.isnull().sum()\n"
   ]
  },
  {
   "cell_type": "code",
   "execution_count": 15,
   "id": "2e539ce4-2289-4b5a-b52e-310386bc4d28",
   "metadata": {},
   "outputs": [
    {
     "data": {
      "text/html": [
       "<div>\n",
       "<style scoped>\n",
       "    .dataframe tbody tr th:only-of-type {\n",
       "        vertical-align: middle;\n",
       "    }\n",
       "\n",
       "    .dataframe tbody tr th {\n",
       "        vertical-align: top;\n",
       "    }\n",
       "\n",
       "    .dataframe thead th {\n",
       "        text-align: right;\n",
       "    }\n",
       "</style>\n",
       "<table border=\"1\" class=\"dataframe\">\n",
       "  <thead>\n",
       "    <tr style=\"text-align: right;\">\n",
       "      <th></th>\n",
       "      <th>count</th>\n",
       "      <th>mean</th>\n",
       "      <th>min</th>\n",
       "      <th>25%</th>\n",
       "      <th>50%</th>\n",
       "      <th>75%</th>\n",
       "      <th>max</th>\n",
       "      <th>std</th>\n",
       "    </tr>\n",
       "  </thead>\n",
       "  <tbody>\n",
       "    <tr>\n",
       "      <th>Scheduled Departure Time</th>\n",
       "      <td>200000</td>\n",
       "      <td>2024-06-29 07:21:27.047897856</td>\n",
       "      <td>2024-01-01 00:01:53.341000</td>\n",
       "      <td>2024-03-30 22:12:47.147000064</td>\n",
       "      <td>2024-06-29 10:33:27.125000192</td>\n",
       "      <td>2024-09-27 09:33:27.652499968</td>\n",
       "      <td>2024-12-27 05:14:38.598000</td>\n",
       "      <td>NaN</td>\n",
       "    </tr>\n",
       "    <tr>\n",
       "      <th>Actual Departure Time</th>\n",
       "      <td>200000</td>\n",
       "      <td>2024-06-29 08:55:04.198966016</td>\n",
       "      <td>2024-01-01 00:03:33.981000</td>\n",
       "      <td>2024-03-30 15:40:28.572750080</td>\n",
       "      <td>2024-06-28 20:10:25.013499904</td>\n",
       "      <td>2024-09-28 03:54:08.405749760</td>\n",
       "      <td>2024-12-27 05:07:36.226000</td>\n",
       "      <td>NaN</td>\n",
       "    </tr>\n",
       "    <tr>\n",
       "      <th>Delay (Minutes)</th>\n",
       "      <td>200000.0</td>\n",
       "      <td>59.35885</td>\n",
       "      <td>0.0</td>\n",
       "      <td>29.0</td>\n",
       "      <td>59.0</td>\n",
       "      <td>89.0</td>\n",
       "      <td>119.0</td>\n",
       "      <td>34.67602</td>\n",
       "    </tr>\n",
       "    <tr>\n",
       "      <th>Aircraft Utilization (Hours/Day)</th>\n",
       "      <td>200000.0</td>\n",
       "      <td>12.003438</td>\n",
       "      <td>8.0</td>\n",
       "      <td>9.99</td>\n",
       "      <td>12.01</td>\n",
       "      <td>14.01</td>\n",
       "      <td>16.0</td>\n",
       "      <td>2.311966</td>\n",
       "    </tr>\n",
       "    <tr>\n",
       "      <th>Turnaround Time (Minutes)</th>\n",
       "      <td>200000.0</td>\n",
       "      <td>74.45168</td>\n",
       "      <td>30.0</td>\n",
       "      <td>52.0</td>\n",
       "      <td>74.0</td>\n",
       "      <td>97.0</td>\n",
       "      <td>119.0</td>\n",
       "      <td>25.977826</td>\n",
       "    </tr>\n",
       "    <tr>\n",
       "      <th>Load Factor (%)</th>\n",
       "      <td>200000.0</td>\n",
       "      <td>74.997178</td>\n",
       "      <td>50.0</td>\n",
       "      <td>62.5</td>\n",
       "      <td>74.96</td>\n",
       "      <td>87.53</td>\n",
       "      <td>100.0</td>\n",
       "      <td>14.439393</td>\n",
       "    </tr>\n",
       "    <tr>\n",
       "      <th>Fleet Availability (%)</th>\n",
       "      <td>200000.0</td>\n",
       "      <td>85.001378</td>\n",
       "      <td>70.0</td>\n",
       "      <td>77.48</td>\n",
       "      <td>85.0</td>\n",
       "      <td>92.53</td>\n",
       "      <td>100.0</td>\n",
       "      <td>8.672413</td>\n",
       "    </tr>\n",
       "    <tr>\n",
       "      <th>Maintenance Downtime (Hours)</th>\n",
       "      <td>200000.0</td>\n",
       "      <td>5.503103</td>\n",
       "      <td>1.0</td>\n",
       "      <td>3.25</td>\n",
       "      <td>5.5</td>\n",
       "      <td>7.76</td>\n",
       "      <td>10.0</td>\n",
       "      <td>2.601257</td>\n",
       "    </tr>\n",
       "    <tr>\n",
       "      <th>Fuel Efficiency (ASK)</th>\n",
       "      <td>200000.0</td>\n",
       "      <td>3.496959</td>\n",
       "      <td>2.0</td>\n",
       "      <td>2.75</td>\n",
       "      <td>3.49</td>\n",
       "      <td>4.25</td>\n",
       "      <td>5.0</td>\n",
       "      <td>0.865309</td>\n",
       "    </tr>\n",
       "    <tr>\n",
       "      <th>Revenue (USD)</th>\n",
       "      <td>200000.0</td>\n",
       "      <td>25571.448338</td>\n",
       "      <td>1000.06</td>\n",
       "      <td>13297.0425</td>\n",
       "      <td>25566.3</td>\n",
       "      <td>37860.4025</td>\n",
       "      <td>49999.95</td>\n",
       "      <td>14158.512116</td>\n",
       "    </tr>\n",
       "    <tr>\n",
       "      <th>Operating Cost (USD)</th>\n",
       "      <td>200000.0</td>\n",
       "      <td>20429.003323</td>\n",
       "      <td>800.03</td>\n",
       "      <td>10609.0225</td>\n",
       "      <td>20410.885</td>\n",
       "      <td>30245.9075</td>\n",
       "      <td>39999.84</td>\n",
       "      <td>11316.410641</td>\n",
       "    </tr>\n",
       "    <tr>\n",
       "      <th>Net Profit Margin (%)</th>\n",
       "      <td>200000.0</td>\n",
       "      <td>15.011169</td>\n",
       "      <td>5.0</td>\n",
       "      <td>10.01</td>\n",
       "      <td>15.0</td>\n",
       "      <td>20.01</td>\n",
       "      <td>25.0</td>\n",
       "      <td>5.77834</td>\n",
       "    </tr>\n",
       "    <tr>\n",
       "      <th>Ancillary Revenue (USD)</th>\n",
       "      <td>200000.0</td>\n",
       "      <td>2550.025537</td>\n",
       "      <td>100.02</td>\n",
       "      <td>1325.57</td>\n",
       "      <td>2544.21</td>\n",
       "      <td>3776.3875</td>\n",
       "      <td>5000.0</td>\n",
       "      <td>1414.291993</td>\n",
       "    </tr>\n",
       "    <tr>\n",
       "      <th>Debt-to-Equity Ratio</th>\n",
       "      <td>200000.0</td>\n",
       "      <td>1.752445</td>\n",
       "      <td>0.5</td>\n",
       "      <td>1.13</td>\n",
       "      <td>1.75</td>\n",
       "      <td>2.37</td>\n",
       "      <td>3.0</td>\n",
       "      <td>0.720194</td>\n",
       "    </tr>\n",
       "    <tr>\n",
       "      <th>Revenue per ASK</th>\n",
       "      <td>200000.0</td>\n",
       "      <td>7818.578193</td>\n",
       "      <td>203.11</td>\n",
       "      <td>3812.7825</td>\n",
       "      <td>7315.46</td>\n",
       "      <td>10909.2725</td>\n",
       "      <td>24999.34</td>\n",
       "      <td>4947.028923</td>\n",
       "    </tr>\n",
       "    <tr>\n",
       "      <th>Cost per ASK</th>\n",
       "      <td>200000.0</td>\n",
       "      <td>6245.613443</td>\n",
       "      <td>164.83</td>\n",
       "      <td>3041.5475</td>\n",
       "      <td>5834.705</td>\n",
       "      <td>8715.67</td>\n",
       "      <td>19928.34</td>\n",
       "      <td>3957.35831</td>\n",
       "    </tr>\n",
       "    <tr>\n",
       "      <th>Profit (USD)</th>\n",
       "      <td>200000.0</td>\n",
       "      <td>5142.445015</td>\n",
       "      <td>-38973.96</td>\n",
       "      <td>-7983.69</td>\n",
       "      <td>5216.975</td>\n",
       "      <td>18269.6475</td>\n",
       "      <td>49054.69</td>\n",
       "      <td>18123.595784</td>\n",
       "    </tr>\n",
       "  </tbody>\n",
       "</table>\n",
       "</div>"
      ],
      "text/plain": [
       "                                     count                           mean  \\\n",
       "Scheduled Departure Time            200000  2024-06-29 07:21:27.047897856   \n",
       "Actual Departure Time               200000  2024-06-29 08:55:04.198966016   \n",
       "Delay (Minutes)                   200000.0                       59.35885   \n",
       "Aircraft Utilization (Hours/Day)  200000.0                      12.003438   \n",
       "Turnaround Time (Minutes)         200000.0                       74.45168   \n",
       "Load Factor (%)                   200000.0                      74.997178   \n",
       "Fleet Availability (%)            200000.0                      85.001378   \n",
       "Maintenance Downtime (Hours)      200000.0                       5.503103   \n",
       "Fuel Efficiency (ASK)             200000.0                       3.496959   \n",
       "Revenue (USD)                     200000.0                   25571.448338   \n",
       "Operating Cost (USD)              200000.0                   20429.003323   \n",
       "Net Profit Margin (%)             200000.0                      15.011169   \n",
       "Ancillary Revenue (USD)           200000.0                    2550.025537   \n",
       "Debt-to-Equity Ratio              200000.0                       1.752445   \n",
       "Revenue per ASK                   200000.0                    7818.578193   \n",
       "Cost per ASK                      200000.0                    6245.613443   \n",
       "Profit (USD)                      200000.0                    5142.445015   \n",
       "\n",
       "                                                         min  \\\n",
       "Scheduled Departure Time          2024-01-01 00:01:53.341000   \n",
       "Actual Departure Time             2024-01-01 00:03:33.981000   \n",
       "Delay (Minutes)                                          0.0   \n",
       "Aircraft Utilization (Hours/Day)                         8.0   \n",
       "Turnaround Time (Minutes)                               30.0   \n",
       "Load Factor (%)                                         50.0   \n",
       "Fleet Availability (%)                                  70.0   \n",
       "Maintenance Downtime (Hours)                             1.0   \n",
       "Fuel Efficiency (ASK)                                    2.0   \n",
       "Revenue (USD)                                        1000.06   \n",
       "Operating Cost (USD)                                  800.03   \n",
       "Net Profit Margin (%)                                    5.0   \n",
       "Ancillary Revenue (USD)                               100.02   \n",
       "Debt-to-Equity Ratio                                     0.5   \n",
       "Revenue per ASK                                       203.11   \n",
       "Cost per ASK                                          164.83   \n",
       "Profit (USD)                                       -38973.96   \n",
       "\n",
       "                                                            25%  \\\n",
       "Scheduled Departure Time          2024-03-30 22:12:47.147000064   \n",
       "Actual Departure Time             2024-03-30 15:40:28.572750080   \n",
       "Delay (Minutes)                                            29.0   \n",
       "Aircraft Utilization (Hours/Day)                           9.99   \n",
       "Turnaround Time (Minutes)                                  52.0   \n",
       "Load Factor (%)                                            62.5   \n",
       "Fleet Availability (%)                                    77.48   \n",
       "Maintenance Downtime (Hours)                               3.25   \n",
       "Fuel Efficiency (ASK)                                      2.75   \n",
       "Revenue (USD)                                        13297.0425   \n",
       "Operating Cost (USD)                                 10609.0225   \n",
       "Net Profit Margin (%)                                     10.01   \n",
       "Ancillary Revenue (USD)                                 1325.57   \n",
       "Debt-to-Equity Ratio                                       1.13   \n",
       "Revenue per ASK                                       3812.7825   \n",
       "Cost per ASK                                          3041.5475   \n",
       "Profit (USD)                                           -7983.69   \n",
       "\n",
       "                                                            50%  \\\n",
       "Scheduled Departure Time          2024-06-29 10:33:27.125000192   \n",
       "Actual Departure Time             2024-06-28 20:10:25.013499904   \n",
       "Delay (Minutes)                                            59.0   \n",
       "Aircraft Utilization (Hours/Day)                          12.01   \n",
       "Turnaround Time (Minutes)                                  74.0   \n",
       "Load Factor (%)                                           74.96   \n",
       "Fleet Availability (%)                                     85.0   \n",
       "Maintenance Downtime (Hours)                                5.5   \n",
       "Fuel Efficiency (ASK)                                      3.49   \n",
       "Revenue (USD)                                           25566.3   \n",
       "Operating Cost (USD)                                  20410.885   \n",
       "Net Profit Margin (%)                                      15.0   \n",
       "Ancillary Revenue (USD)                                 2544.21   \n",
       "Debt-to-Equity Ratio                                       1.75   \n",
       "Revenue per ASK                                         7315.46   \n",
       "Cost per ASK                                           5834.705   \n",
       "Profit (USD)                                           5216.975   \n",
       "\n",
       "                                                            75%  \\\n",
       "Scheduled Departure Time          2024-09-27 09:33:27.652499968   \n",
       "Actual Departure Time             2024-09-28 03:54:08.405749760   \n",
       "Delay (Minutes)                                            89.0   \n",
       "Aircraft Utilization (Hours/Day)                          14.01   \n",
       "Turnaround Time (Minutes)                                  97.0   \n",
       "Load Factor (%)                                           87.53   \n",
       "Fleet Availability (%)                                    92.53   \n",
       "Maintenance Downtime (Hours)                               7.76   \n",
       "Fuel Efficiency (ASK)                                      4.25   \n",
       "Revenue (USD)                                        37860.4025   \n",
       "Operating Cost (USD)                                 30245.9075   \n",
       "Net Profit Margin (%)                                     20.01   \n",
       "Ancillary Revenue (USD)                               3776.3875   \n",
       "Debt-to-Equity Ratio                                       2.37   \n",
       "Revenue per ASK                                      10909.2725   \n",
       "Cost per ASK                                            8715.67   \n",
       "Profit (USD)                                         18269.6475   \n",
       "\n",
       "                                                         max           std  \n",
       "Scheduled Departure Time          2024-12-27 05:14:38.598000           NaN  \n",
       "Actual Departure Time             2024-12-27 05:07:36.226000           NaN  \n",
       "Delay (Minutes)                                        119.0      34.67602  \n",
       "Aircraft Utilization (Hours/Day)                        16.0      2.311966  \n",
       "Turnaround Time (Minutes)                              119.0     25.977826  \n",
       "Load Factor (%)                                        100.0     14.439393  \n",
       "Fleet Availability (%)                                 100.0      8.672413  \n",
       "Maintenance Downtime (Hours)                            10.0      2.601257  \n",
       "Fuel Efficiency (ASK)                                    5.0      0.865309  \n",
       "Revenue (USD)                                       49999.95  14158.512116  \n",
       "Operating Cost (USD)                                39999.84  11316.410641  \n",
       "Net Profit Margin (%)                                   25.0       5.77834  \n",
       "Ancillary Revenue (USD)                               5000.0   1414.291993  \n",
       "Debt-to-Equity Ratio                                     3.0      0.720194  \n",
       "Revenue per ASK                                     24999.34   4947.028923  \n",
       "Cost per ASK                                        19928.34    3957.35831  \n",
       "Profit (USD)                                        49054.69  18123.595784  "
      ]
     },
     "execution_count": 15,
     "metadata": {},
     "output_type": "execute_result"
    }
   ],
   "source": [
    "\n",
    "df.describe().transpose()\n",
    "\n"
   ]
  },
  {
   "cell_type": "code",
   "execution_count": 17,
   "id": "3c2b3111-ef60-4d02-8629-96d519b6fae5",
   "metadata": {},
   "outputs": [],
   "source": [
    "#Handle missing values (Fill or drop as necessary)\n",
    "df.fillna(0, inplace=True)  # Replace missing values with 0 (Modify this based on your dataset needs)\n"
   ]
  },
  {
   "cell_type": "code",
   "execution_count": 18,
   "id": "5cb58975-5e88-477f-a2ff-144b9691d165",
   "metadata": {},
   "outputs": [],
   "source": [
    "df.fillna({\n",
    "    'Load Factor (%)': df['Load Factor (%)'].mean(),\n",
    "    'Operating Cost (USD)': df['Operating Cost (USD)'].median(),\n",
    "    'Revenue (USD)': df['Revenue (USD)'].median(),\n",
    "    'Profit (USD)': 0  # Assuming missing profits are zero\n",
    "}, inplace=True)\n"
   ]
  },
  {
   "cell_type": "code",
   "execution_count": 19,
   "id": "94c81ad9-e982-47b6-9fa2-04f0ca723795",
   "metadata": {},
   "outputs": [],
   "source": [
    " #Feature Engineering\n",
    "# Extract useful time features\n",
    "df['Departure Hour'] = df['Scheduled Departure Time'].dt.hour\n",
    "df['Departure Day of Week'] = df['Scheduled Departure Time'].dt.dayofweek\n"
   ]
  },
  {
   "cell_type": "code",
   "execution_count": 20,
   "id": "0026d491-c9ce-40b6-b091-60730ccfefe6",
   "metadata": {},
   "outputs": [],
   "source": [
    "# Define time categories based on departure hour\n",
    "def categorize_time(hour):\n",
    "    if 5 <= hour < 12:\n",
    "        return \"Morning\"\n",
    "    elif 12 <= hour < 17:\n",
    "        return \"Noon\"\n",
    "    else:\n",
    "        return \"Night\""
   ]
  },
  {
   "cell_type": "code",
   "execution_count": 22,
   "id": "78f5df3c-31af-4c37-aedf-8485de2e9d81",
   "metadata": {},
   "outputs": [],
   "source": [
    "df['Flight Time Category'] = df['Departure Hour'].apply(categorize_time)"
   ]
  },
  {
   "cell_type": "code",
   "execution_count": 23,
   "id": "b1f2b09b-6177-47df-b7f1-0f9c13af3ad8",
   "metadata": {},
   "outputs": [],
   "source": [
    "# One-hot encode the new feature\n",
    "df = pd.get_dummies(df, columns=['Flight Time Category'], dtype=int)\n"
   ]
  },
  {
   "cell_type": "code",
   "execution_count": 24,
   "id": "089fc2ba-517b-4ea2-8edf-b5733801404f",
   "metadata": {},
   "outputs": [],
   "source": [
    "# Generate performance and efficiency metrics\n",
    "df['Revenue per Seat'] = df['Revenue (USD)'] / (df['Load Factor (%)'] / 100)\n",
    "df['Cost per Seat'] = df['Operating Cost (USD)'] / (df['Load Factor (%)'] / 100)\n",
    "df['Profit per Seat'] = df['Profit (USD)'] / (df['Load Factor (%)'] / 100)\n",
    "df['Fuel Cost Ratio'] = df['Operating Cost (USD)'] / df['Fuel Efficiency (ASK)']\n"
   ]
  },
  {
   "cell_type": "code",
   "execution_count": 27,
   "id": "b2809fbb-7fc4-424b-8d4e-12795e91c091",
   "metadata": {},
   "outputs": [],
   "source": [
    "# Save the cleaned and processed dataset\n",
    "processed_file_path = \"404_team/Aviation_KPIs_POWERBI.csv\"\n",
    "df.to_csv(processed_file_path, index=False)\n"
   ]
  },
  {
   "cell_type": "code",
   "execution_count": 28,
   "id": "39b09d31-7031-44ad-9dbb-eaf4fa8c2b03",
   "metadata": {},
   "outputs": [
    {
     "name": "stdout",
     "output_type": "stream",
     "text": [
      "Processed dataset saved at: 404_team/Aviation_KPIs_POWERBI.csv\n"
     ]
    }
   ],
   "source": [
    "print(f\"Processed dataset saved at: {processed_file_path}\")"
   ]
  },
  {
   "cell_type": "code",
   "execution_count": null,
   "id": "4eb14ca6-042b-42a6-b305-8bf9efd910f9",
   "metadata": {},
   "outputs": [],
   "source": []
  }
 ],
 "metadata": {
  "kernelspec": {
   "display_name": "Python 3 (ipykernel)",
   "language": "python",
   "name": "python3"
  },
  "language_info": {
   "codemirror_mode": {
    "name": "ipython",
    "version": 3
   },
   "file_extension": ".py",
   "mimetype": "text/x-python",
   "name": "python",
   "nbconvert_exporter": "python",
   "pygments_lexer": "ipython3",
   "version": "3.13.1"
  }
 },
 "nbformat": 4,
 "nbformat_minor": 5
}
